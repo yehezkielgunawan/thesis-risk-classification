{
  "nbformat": 4,
  "nbformat_minor": 0,
  "metadata": {
    "colab": {
      "provenance": [],
      "authorship_tag": "ABX9TyPovET8Z5NKTjQbqXEyhRsr",
      "include_colab_link": true
    },
    "kernelspec": {
      "name": "python3",
      "display_name": "Python 3"
    },
    "language_info": {
      "name": "python"
    }
  },
  "cells": [
    {
      "cell_type": "markdown",
      "metadata": {
        "id": "view-in-github",
        "colab_type": "text"
      },
      "source": [
        "<a href=\"https://colab.research.google.com/github/yehezkielgunawan/thesis-risk-classification/blob/main/Create_Custom_Embedding.ipynb\" target=\"_parent\"><img src=\"https://colab.research.google.com/assets/colab-badge.svg\" alt=\"Open In Colab\"/></a>"
      ]
    },
    {
      "cell_type": "code",
      "execution_count": 2,
      "metadata": {
        "colab": {
          "base_uri": "https://localhost:8080/"
        },
        "id": "_s1MXJ1f_Ujy",
        "outputId": "db5ce50e-e76f-4d3e-8057-9960ad930bed"
      },
      "outputs": [
        {
          "output_type": "stream",
          "name": "stdout",
          "text": [
            "Drive already mounted at /content/gdrive; to attempt to forcibly remount, call drive.mount(\"/content/gdrive\", force_remount=True).\n"
          ]
        }
      ],
      "source": [
        "from google.colab import drive\n",
        "drive.mount('/content/gdrive')"
      ]
    },
    {
      "cell_type": "markdown",
      "source": [
        "Word Embedding Dataset: https://docs.google.com/spreadsheets/d/1MStLeH0IIoThlNPq_P_0WD1IVyy_QdU_/edit?usp=sharing&ouid=104481541349642552597&rtpof=true&sd=true"
      ],
      "metadata": {
        "id": "hB1E5MB3FrLf"
      }
    },
    {
      "cell_type": "code",
      "source": [
        "import pandas as pd\n",
        "df = pd.read_excel('/content/gdrive/My Drive/Tesis/EmbeddingDataset.xlsx')\n",
        "df['content']"
      ],
      "metadata": {
        "colab": {
          "base_uri": "https://localhost:8080/"
        },
        "id": "aLJgLCUY_8Zk",
        "outputId": "bc3e8ff3-be18-47e1-c5e1-23e3a1c1eef0"
      },
      "execution_count": 3,
      "outputs": [
        {
          "output_type": "execute_result",
          "data": {
            "text/plain": [
              "0       Sorry, including the expensive price + apk usi...\n",
              "1       Verifikasi terlalu ribet pending terus, udah n...\n",
              "2                             menginap yang nyaman sekali\n",
              "3                                     Ga bisa masuk apk ?\n",
              "4       kenapa apk boboboxx saya stuck di loading scre...\n",
              "                              ...                        \n",
              "2744                                             good job\n",
              "2745                                                   ok\n",
              "2746                                            ok banget\n",
              "2747            Sangat Memuaskan... Balek kampung ahhh...\n",
              "2748    setelah update kok malah susah, bahkan utk men...\n",
              "Name: content, Length: 2749, dtype: object"
            ]
          },
          "metadata": {},
          "execution_count": 3
        }
      ]
    },
    {
      "cell_type": "code",
      "source": [
        "df.head(2).to_json()"
      ],
      "metadata": {
        "colab": {
          "base_uri": "https://localhost:8080/",
          "height": 70
        },
        "id": "NoWAa0ynDA4H",
        "outputId": "ce7a7fcd-2155-4603-936c-fdb12af52c7a"
      },
      "execution_count": 4,
      "outputs": [
        {
          "output_type": "execute_result",
          "data": {
            "text/plain": [
              "'{\"Unnamed: 0\":{\"0\":0,\"1\":1},\"content\":{\"0\":\"Sorry, including the expensive price + apk using English for people who don\\'t understand, it will be difficult to book\",\"1\":\"Verifikasi terlalu ribet pending terus, udah nyoba pake KTP, SIM juga tetep aja pending, tolong perbaiki lagi\"}}'"
            ],
            "application/vnd.google.colaboratory.intrinsic+json": {
              "type": "string"
            }
          },
          "metadata": {},
          "execution_count": 4
        }
      ]
    },
    {
      "cell_type": "code",
      "source": [
        "!pip install transformers"
      ],
      "metadata": {
        "colab": {
          "base_uri": "https://localhost:8080/"
        },
        "id": "vePVUEyQCTyD",
        "outputId": "1d24c4ca-8793-4cf1-ce70-71ae9d619562"
      },
      "execution_count": 5,
      "outputs": [
        {
          "output_type": "stream",
          "name": "stdout",
          "text": [
            "Looking in indexes: https://pypi.org/simple, https://us-python.pkg.dev/colab-wheels/public/simple/\n",
            "Requirement already satisfied: transformers in /usr/local/lib/python3.10/dist-packages (4.29.2)\n",
            "Requirement already satisfied: filelock in /usr/local/lib/python3.10/dist-packages (from transformers) (3.12.0)\n",
            "Requirement already satisfied: huggingface-hub<1.0,>=0.14.1 in /usr/local/lib/python3.10/dist-packages (from transformers) (0.15.1)\n",
            "Requirement already satisfied: numpy>=1.17 in /usr/local/lib/python3.10/dist-packages (from transformers) (1.22.4)\n",
            "Requirement already satisfied: packaging>=20.0 in /usr/local/lib/python3.10/dist-packages (from transformers) (23.1)\n",
            "Requirement already satisfied: pyyaml>=5.1 in /usr/local/lib/python3.10/dist-packages (from transformers) (6.0)\n",
            "Requirement already satisfied: regex!=2019.12.17 in /usr/local/lib/python3.10/dist-packages (from transformers) (2022.10.31)\n",
            "Requirement already satisfied: requests in /usr/local/lib/python3.10/dist-packages (from transformers) (2.27.1)\n",
            "Requirement already satisfied: tokenizers!=0.11.3,<0.14,>=0.11.1 in /usr/local/lib/python3.10/dist-packages (from transformers) (0.13.3)\n",
            "Requirement already satisfied: tqdm>=4.27 in /usr/local/lib/python3.10/dist-packages (from transformers) (4.65.0)\n",
            "Requirement already satisfied: fsspec in /usr/local/lib/python3.10/dist-packages (from huggingface-hub<1.0,>=0.14.1->transformers) (2023.4.0)\n",
            "Requirement already satisfied: typing-extensions>=3.7.4.3 in /usr/local/lib/python3.10/dist-packages (from huggingface-hub<1.0,>=0.14.1->transformers) (4.5.0)\n",
            "Requirement already satisfied: urllib3<1.27,>=1.21.1 in /usr/local/lib/python3.10/dist-packages (from requests->transformers) (1.26.15)\n",
            "Requirement already satisfied: certifi>=2017.4.17 in /usr/local/lib/python3.10/dist-packages (from requests->transformers) (2022.12.7)\n",
            "Requirement already satisfied: charset-normalizer~=2.0.0 in /usr/local/lib/python3.10/dist-packages (from requests->transformers) (2.0.12)\n",
            "Requirement already satisfied: idna<4,>=2.5 in /usr/local/lib/python3.10/dist-packages (from requests->transformers) (3.4)\n"
          ]
        }
      ]
    },
    {
      "cell_type": "code",
      "source": [
        "from transformers import BertTokenizer, BertModel\n",
        "import torch\n",
        "import numpy as np\n",
        "\n",
        "model_name = 'bert-base-multilingual-cased'  # Pre-trained BERT model for multilingual support\n",
        "tokenizer = BertTokenizer.from_pretrained(model_name)\n",
        "model = BertModel.from_pretrained(model_name)\n",
        "\n",
        "sentences = df['content'].tolist()\n",
        "\n",
        "# Tokenize the sentences and convert them into input tensors\n",
        "inputs = tokenizer(sentences, padding=True, truncation=True, return_tensors=\"pt\", max_length=512)\n",
        "input_ids = inputs[\"input_ids\"]\n",
        "attention_mask = inputs[\"attention_mask\"]\n",
        "\n",
        "# Configure GPU acceleration if available\n",
        "device = torch.device(\"cuda\" if torch.cuda.is_available() else \"cpu\")\n",
        "model = model.to(device)\n",
        "input_ids = input_ids.to(device)\n",
        "attention_mask = attention_mask.to(device)\n",
        "\n",
        "# Generate embeddings in batches\n",
        "batch_size = 16\n",
        "embeddings = []\n",
        "with torch.no_grad():\n",
        "    for i in range(0, len(sentences), batch_size):\n",
        "        batch_input_ids = input_ids[i:i+batch_size]\n",
        "        batch_attention_mask = attention_mask[i:i+batch_size]\n",
        "        batch_input_ids = batch_input_ids.to(device)\n",
        "        batch_attention_mask = batch_attention_mask.to(device)\n",
        "\n",
        "        outputs = model(input_ids=batch_input_ids, attention_mask=batch_attention_mask)\n",
        "        batch_embeddings = outputs.last_hidden_state[:, 0, :].cpu().numpy()\n",
        "        embeddings.extend(batch_embeddings)\n",
        "\n",
        "embeddings = np.stack(embeddings)"
      ],
      "metadata": {
        "colab": {
          "base_uri": "https://localhost:8080/"
        },
        "id": "Uh2_OdNoBdyB",
        "outputId": "4a194806-36a2-4ec8-e43e-7a70f575585e"
      },
      "execution_count": 7,
      "outputs": [
        {
          "output_type": "stream",
          "name": "stderr",
          "text": [
            "Some weights of the model checkpoint at bert-base-multilingual-cased were not used when initializing BertModel: ['cls.predictions.bias', 'cls.predictions.transform.dense.weight', 'cls.predictions.transform.LayerNorm.weight', 'cls.seq_relationship.weight', 'cls.predictions.decoder.weight', 'cls.predictions.transform.dense.bias', 'cls.predictions.transform.LayerNorm.bias', 'cls.seq_relationship.bias']\n",
            "- This IS expected if you are initializing BertModel from the checkpoint of a model trained on another task or with another architecture (e.g. initializing a BertForSequenceClassification model from a BertForPreTraining model).\n",
            "- This IS NOT expected if you are initializing BertModel from the checkpoint of a model that you expect to be exactly identical (initializing a BertForSequenceClassification model from a BertForSequenceClassification model).\n"
          ]
        }
      ]
    },
    {
      "cell_type": "code",
      "source": [
        "# Define the output file path\n",
        "output_file = \"/content/gdrive/My Drive/Tesis/bert_embeddings.npy\"\n",
        "\n",
        "# Save the embeddings to the output file\n",
        "np.save(output_file, embeddings)\n"
      ],
      "metadata": {
        "id": "9o9dfHm3NU0l"
      },
      "execution_count": 8,
      "outputs": []
    }
  ]
}