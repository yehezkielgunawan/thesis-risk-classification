{
  "nbformat": 4,
  "nbformat_minor": 0,
  "metadata": {
    "colab": {
      "provenance": [],
      "authorship_tag": "ABX9TyMh22Vop7G5yLbbSqUN/gd+",
      "include_colab_link": true
    },
    "kernelspec": {
      "name": "python3",
      "display_name": "Python 3"
    },
    "language_info": {
      "name": "python"
    }
  },
  "cells": [
    {
      "cell_type": "markdown",
      "metadata": {
        "id": "view-in-github",
        "colab_type": "text"
      },
      "source": [
        "<a href=\"https://colab.research.google.com/github/yehezkielgunawan/thesis-risk-classification/blob/main/Extract_NPS.ipynb\" target=\"_parent\"><img src=\"https://colab.research.google.com/assets/colab-badge.svg\" alt=\"Open In Colab\"/></a>"
      ]
    },
    {
      "cell_type": "code",
      "execution_count": null,
      "metadata": {
        "colab": {
          "base_uri": "https://localhost:8080/"
        },
        "id": "C7gsL2YXnfeL",
        "outputId": "fac60ac3-b098-42a0-af16-ea979cd2e0ea"
      },
      "outputs": [
        {
          "output_type": "stream",
          "name": "stdout",
          "text": [
            "Mounted at /content/gdrive\n"
          ]
        }
      ],
      "source": [
        "from google.colab import drive\n",
        "drive.mount('/content/gdrive')"
      ]
    },
    {
      "cell_type": "code",
      "source": [
        "import pandas as pd\n",
        "df = pd.read_csv('/content/gdrive/My Drive/Tesis/NPS Feedbacks RAW.csv')\n",
        "df = df.dropna()\n",
        "df[\"nps_review\"]"
      ],
      "metadata": {
        "colab": {
          "base_uri": "https://localhost:8080/"
        },
        "id": "Vx1VC5JZnoEu",
        "outputId": "7ef0085e-d7d4-4f4f-9793-c70ee15f0175"
      },
      "execution_count": null,
      "outputs": [
        {
          "output_type": "execute_result",
          "data": {
            "text/plain": [
              "0       Seprei banyak noda. Toilet kurang bersih dan b...\n",
              "1       Untuk halaman taman perlu pembersihan,masih te...\n",
              "4       Nice for adult. But for child must be alert. A...\n",
              "5                                                   Panas\n",
              "6       Kamarnya sempit bgt dan susah buat dijangkau m...\n",
              "                              ...                        \n",
              "3266    Saya salah melakukan tanggal cekin, karna tida...\n",
              "3268    Minta di make up room tapi gak di make up, the...\n",
              "3269                           air mandinya terlalu kecil\n",
              "3272    * Closet nya kotor(ada org abis pake kayanya h...\n",
              "3274    Air panasnya dipakai sbntr sudah dingin.\\nBisa...\n",
              "Name: nps_review, Length: 1534, dtype: object"
            ]
          },
          "metadata": {},
          "execution_count": 9
        }
      ]
    },
    {
      "cell_type": "code",
      "source": [
        "# Create a path to the Excel file you want to export the DataFrame to.\n",
        "excel_file_path = \"/content/gdrive/My Drive/Tesis/extracted_npx.xlsx\"\n",
        "\n",
        "# Use the `to_excel()` method to export the DataFrame to the Excel file.\n",
        "df['nps_review'].to_excel(excel_file_path, sheet_name=\"Sheet1\")"
      ],
      "metadata": {
        "id": "4dyl5kIjoMvt"
      },
      "execution_count": null,
      "outputs": []
    }
  ]
}