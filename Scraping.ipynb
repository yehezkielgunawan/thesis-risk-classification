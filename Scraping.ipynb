{
  "nbformat": 4,
  "nbformat_minor": 0,
  "metadata": {
    "colab": {
      "provenance": [],
      "authorship_tag": "ABX9TyPkYFseVzvdy6fo9wPPIAzV",
      "include_colab_link": true
    },
    "kernelspec": {
      "name": "python3",
      "display_name": "Python 3"
    },
    "language_info": {
      "name": "python"
    }
  },
  "cells": [
    {
      "cell_type": "markdown",
      "metadata": {
        "id": "view-in-github",
        "colab_type": "text"
      },
      "source": [
        "<a href=\"https://colab.research.google.com/github/yehezkielgunawan/thesis-risk-classification/blob/main/Scraping.ipynb\" target=\"_parent\"><img src=\"https://colab.research.google.com/assets/colab-badge.svg\" alt=\"Open In Colab\"/></a>"
      ]
    },
    {
      "cell_type": "code",
      "execution_count": 22,
      "metadata": {
        "colab": {
          "base_uri": "https://localhost:8080/"
        },
        "id": "PPVxxeQ115T_",
        "outputId": "cc4f15c2-a191-4f55-e076-463c7c2eaa85"
      },
      "outputs": [
        {
          "output_type": "stream",
          "name": "stdout",
          "text": [
            "Looking in indexes: https://pypi.org/simple, https://us-python.pkg.dev/colab-wheels/public/simple/\n",
            "Requirement already satisfied: google-play-scraper in /usr/local/lib/python3.10/dist-packages (1.2.4)\n"
          ]
        }
      ],
      "source": [
        "!pip install google-play-scraper"
      ]
    },
    {
      "cell_type": "code",
      "source": [
        "from google_play_scraper import Sort, reviews\n",
        "\n",
        "reviewArray = []\n",
        "\n",
        "# Scrape review that has 1 star\n",
        "result1, continuation_token1 = reviews(\n",
        "    'com.bobobox.bobobox',\n",
        "    lang='id', # defaults to 'en'\n",
        "    country='id', # defaults to 'us'\n",
        "    sort=Sort.NEWEST, # defaults to Sort.NEWEST\n",
        "    count=300, # defaults to 100\n",
        "    filter_score_with=1 # defaults to None(means all score)\n",
        ")\n",
        "\n",
        "reviewArray.extend(result1)\n",
        "\n",
        "# Scrape review that has 2 star\n",
        "result2, continuation_token2 = reviews(\n",
        "    'com.bobobox.bobobox',\n",
        "    lang='id', # defaults to 'en'\n",
        "    country='id', # defaults to 'us'\n",
        "    sort=Sort.NEWEST, # defaults to Sort.NEWEST\n",
        "    count=300, # defaults to 100\n",
        "    filter_score_with=2 # defaults to None(means all score)\n",
        ")\n",
        "reviewArray.extend(result2)\n",
        "\n",
        "# Scrape review that has 3 star\n",
        "result3, continuation_token3 = reviews(\n",
        "    'com.bobobox.bobobox',\n",
        "    lang='id', # defaults to 'en'\n",
        "    country='id', # defaults to 'us'\n",
        "    sort=Sort.NEWEST, # defaults to Sort.NEWEST\n",
        "    count=300, # defaults to 100\n",
        "    filter_score_with=3 # defaults to None(means all score)\n",
        ")\n",
        "reviewArray.extend(result3)\n",
        "\n",
        "# Scrape review that has 4 star\n",
        "result4, continuation_token4 = reviews(\n",
        "    'com.bobobox.bobobox',\n",
        "    lang='id', # defaults to 'en'\n",
        "    country='id', # defaults to 'us'\n",
        "    sort=Sort.NEWEST, # defaults to Sort.NEWEST\n",
        "    count=300, # defaults to 100\n",
        "    filter_score_with=4 # defaults to None(means all score)\n",
        ")\n",
        "reviewArray.extend(result4)\n",
        "\n"
      ],
      "metadata": {
        "id": "m0R8Y4La2A6L"
      },
      "execution_count": 23,
      "outputs": []
    },
    {
      "cell_type": "code",
      "source": [
        "import pandas as pd\n",
        "\n",
        "feedbackPD = pd.DataFrame(reviewArray)\n",
        "\n",
        "feedbackPD['content']"
      ],
      "metadata": {
        "colab": {
          "base_uri": "https://localhost:8080/"
        },
        "id": "3Y7oo7V32-NP",
        "outputId": "4f8f4330-0df0-4a28-ab83-b0a7f97fdf12"
      },
      "execution_count": 24,
      "outputs": [
        {
          "output_type": "execute_result",
          "data": {
            "text/plain": [
              "0      Setelah install terus pas buka aplikasi ngebla...\n",
              "1      gak bisa submit pada saat verifikasi data, pad...\n",
              "2                                  Aplilasi restart mulu\n",
              "3             udah mahal , makanan ga enak, banyak lalat\n",
              "4      fitur chat dengan host tidak bisa digunakan, p...\n",
              "                             ...                        \n",
              "233                                Please donk ada tvnya\n",
              "234                     Untuk sendiri apa bisa berdua..?\n",
              "235    Overall 7.7/10 1. Di kamar belum ada gantungan...\n",
              "236                                             Good job\n",
              "237    Ini baru di bandung aja ya? Di kota lain ada g...\n",
              "Name: content, Length: 238, dtype: object"
            ]
          },
          "metadata": {},
          "execution_count": 24
        }
      ]
    },
    {
      "cell_type": "code",
      "source": [
        "import openpyxl\n",
        "from google.colab import drive\n",
        "drive.mount('/content/gdrive')\n",
        "\n",
        "# Create a path to the Excel file you want to export the DataFrame to.\n",
        "excel_file_path = \"/content/gdrive/My Drive/Tesis/feedbackDataset.xlsx\"\n",
        "\n",
        "# Use the `to_excel()` method to export the DataFrame to the Excel file.\n",
        "feedbackPD['content'].to_excel(excel_file_path, sheet_name=\"Sheet1\")"
      ],
      "metadata": {
        "colab": {
          "base_uri": "https://localhost:8080/"
        },
        "id": "HMJyF76_7JFq",
        "outputId": "e0b60eb2-327b-403d-daf6-8106a776efe7"
      },
      "execution_count": 25,
      "outputs": [
        {
          "output_type": "stream",
          "name": "stdout",
          "text": [
            "Drive already mounted at /content/gdrive; to attempt to forcibly remount, call drive.mount(\"/content/gdrive\", force_remount=True).\n"
          ]
        }
      ]
    }
  ]
}