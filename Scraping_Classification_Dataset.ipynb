{
  "nbformat": 4,
  "nbformat_minor": 0,
  "metadata": {
    "colab": {
      "provenance": [],
      "authorship_tag": "ABX9TyOQ/5SbcU81kYS8yjnf1hqa",
      "include_colab_link": true
    },
    "kernelspec": {
      "name": "python3",
      "display_name": "Python 3"
    },
    "language_info": {
      "name": "python"
    }
  },
  "cells": [
    {
      "cell_type": "markdown",
      "metadata": {
        "id": "view-in-github",
        "colab_type": "text"
      },
      "source": [
        "<a href=\"https://colab.research.google.com/github/yehezkielgunawan/thesis-risk-classification/blob/main/Scraping_Classification_Dataset.ipynb\" target=\"_parent\"><img src=\"https://colab.research.google.com/assets/colab-badge.svg\" alt=\"Open In Colab\"/></a>"
      ]
    },
    {
      "cell_type": "code",
      "execution_count": 1,
      "metadata": {
        "colab": {
          "base_uri": "https://localhost:8080/"
        },
        "id": "PPVxxeQ115T_",
        "outputId": "e78af825-d6f1-4750-d6ac-0ad92f5d2a6f"
      },
      "outputs": [
        {
          "output_type": "stream",
          "name": "stdout",
          "text": [
            "Looking in indexes: https://pypi.org/simple, https://us-python.pkg.dev/colab-wheels/public/simple/\n",
            "Collecting google-play-scraper\n",
            "  Downloading google_play_scraper-1.2.4-py3-none-any.whl (28 kB)\n",
            "Installing collected packages: google-play-scraper\n",
            "Successfully installed google-play-scraper-1.2.4\n"
          ]
        }
      ],
      "source": [
        "!pip install google-play-scraper"
      ]
    },
    {
      "cell_type": "code",
      "source": [
        "from google_play_scraper import Sort, reviews\n",
        "\n",
        "reviewArray = []\n",
        "\n",
        "# Scrape review that has 1 star\n",
        "result1, continuation_token1 = reviews(\n",
        "    'com.bobobox.bobobox',\n",
        "    lang='id', # defaults to 'en'\n",
        "    country='id', # defaults to 'us'\n",
        "    sort=Sort.NEWEST, # defaults to Sort.NEWEST\n",
        "    count=300, # defaults to 100\n",
        "    filter_score_with=1 # defaults to None(means all score)\n",
        ")\n",
        "\n",
        "reviewArray.extend(result1)\n",
        "\n",
        "# Scrape review that has 2 star\n",
        "result2, continuation_token2 = reviews(\n",
        "    'com.bobobox.bobobox',\n",
        "    lang='id', # defaults to 'en'\n",
        "    country='id', # defaults to 'us'\n",
        "    sort=Sort.NEWEST, # defaults to Sort.NEWEST\n",
        "    count=300, # defaults to 100\n",
        "    filter_score_with=2 # defaults to None(means all score)\n",
        ")\n",
        "reviewArray.extend(result2)\n",
        "\n",
        "# Scrape review that has 3 star\n",
        "result3, continuation_token3 = reviews(\n",
        "    'com.bobobox.bobobox',\n",
        "    lang='id', # defaults to 'en'\n",
        "    country='id', # defaults to 'us'\n",
        "    sort=Sort.NEWEST, # defaults to Sort.NEWEST\n",
        "    count=300, # defaults to 100\n",
        "    filter_score_with=3 # defaults to None(means all score)\n",
        ")\n",
        "reviewArray.extend(result3)"
      ],
      "metadata": {
        "id": "m0R8Y4La2A6L"
      },
      "execution_count": 2,
      "outputs": []
    },
    {
      "cell_type": "code",
      "source": [
        "import pandas as pd\n",
        "\n",
        "feedbackPD = pd.DataFrame(reviewArray)\n",
        "\n",
        "feedbackPD['content']"
      ],
      "metadata": {
        "colab": {
          "base_uri": "https://localhost:8080/"
        },
        "id": "3Y7oo7V32-NP",
        "outputId": "2297cec6-b270-4e4e-ccfa-fd92eea1250d"
      },
      "execution_count": 3,
      "outputs": [
        {
          "output_type": "execute_result",
          "data": {
            "text/plain": [
              "0      Sorry, including the expensive price + apk usi...\n",
              "1      Setelah install terus pas buka aplikasi ngebla...\n",
              "2      gak bisa submit pada saat verifikasi data, pad...\n",
              "3                                  Aplilasi restart mulu\n",
              "4             udah mahal , makanan ga enak, banyak lalat\n",
              "                             ...                        \n",
              "172                    apakah bisa untuk 4 orang dewasa?\n",
              "173    min, apakah diperbolehkan membawa lawan jenis ...\n",
              "174    belum di pake, eh udh 0 aja gift certificate n...\n",
              "175    Hi Bobobox, Ada kasur single seat tidak yaa?? ...\n",
              "176                    Kok ga bisa pilih destinasinya???\n",
              "Name: content, Length: 177, dtype: object"
            ]
          },
          "metadata": {},
          "execution_count": 3
        }
      ]
    },
    {
      "cell_type": "code",
      "source": [
        "import openpyxl\n",
        "from google.colab import drive\n",
        "drive.mount('/content/gdrive')\n",
        "\n",
        "# Create a path to the Excel file you want to export the DataFrame to.\n",
        "excel_file_path = \"/content/gdrive/My Drive/Tesis/feedbackDataset.xlsx\"\n",
        "\n",
        "# Use the `to_excel()` method to export the DataFrame to the Excel file.\n",
        "feedbackPD['content'].to_excel(excel_file_path, sheet_name=\"Sheet1\")"
      ],
      "metadata": {
        "colab": {
          "base_uri": "https://localhost:8080/"
        },
        "id": "HMJyF76_7JFq",
        "outputId": "97edd0fa-cb02-48bd-e84c-15957fc3535a"
      },
      "execution_count": 4,
      "outputs": [
        {
          "output_type": "stream",
          "name": "stdout",
          "text": [
            "Mounted at /content/gdrive\n"
          ]
        }
      ]
    }
  ]
}