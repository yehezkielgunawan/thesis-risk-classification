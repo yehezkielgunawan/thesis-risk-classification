{
  "nbformat": 4,
  "nbformat_minor": 0,
  "metadata": {
    "colab": {
      "provenance": [],
      "authorship_tag": "ABX9TyNemTut4fKIeSJNPrVZ2eqZ",
      "include_colab_link": true
    },
    "kernelspec": {
      "name": "python3",
      "display_name": "Python 3"
    },
    "language_info": {
      "name": "python"
    }
  },
  "cells": [
    {
      "cell_type": "markdown",
      "metadata": {
        "id": "view-in-github",
        "colab_type": "text"
      },
      "source": [
        "<a href=\"https://colab.research.google.com/github/yehezkielgunawan/thesis-risk-classification/blob/main/Scraping_Embedding_Dataset.ipynb\" target=\"_parent\"><img src=\"https://colab.research.google.com/assets/colab-badge.svg\" alt=\"Open In Colab\"/></a>"
      ]
    },
    {
      "cell_type": "code",
      "execution_count": 5,
      "metadata": {
        "colab": {
          "base_uri": "https://localhost:8080/"
        },
        "id": "qRVtJYoxLzBk",
        "outputId": "4dd91dec-a9e7-4a85-fce4-ed19c89cb684"
      },
      "outputs": [
        {
          "output_type": "stream",
          "name": "stdout",
          "text": [
            "Looking in indexes: https://pypi.org/simple, https://us-python.pkg.dev/colab-wheels/public/simple/\n",
            "Requirement already satisfied: google-play-scraper in /usr/local/lib/python3.10/dist-packages (1.2.4)\n"
          ]
        }
      ],
      "source": [
        "!pip install google-play-scraper"
      ]
    },
    {
      "cell_type": "code",
      "source": [
        "from google_play_scraper import Sort, reviews\n",
        "\n",
        "reviewArray = []\n",
        "\n",
        "# Scrape review from Bobobox App Review\n",
        "result1, continuation_token1 = reviews(\n",
        "    'com.bobobox.bobobox',\n",
        "    lang='id', # defaults to 'en'\n",
        "    country='id', # defaults to 'us'\n",
        "    sort=Sort.NEWEST, # defaults to Sort.NEWEST\n",
        "    count=2000, # defaults to 100\n",
        "    # filter_score_with=1 # defaults to None(means all score)\n",
        ")\n",
        "\n",
        "reviewArray.extend(result1)\n",
        "\n",
        "# Scrape review from Traveloka App Review\n",
        "result2, continuation_token2 = reviews(\n",
        "    'com.traveloka.android',\n",
        "    lang='id', # defaults to 'en'\n",
        "    country='id', # defaults to 'us'\n",
        "    sort=Sort.NEWEST, # defaults to Sort.NEWEST\n",
        "    count=2000, # defaults to 100\n",
        "    # filter_score_with=1 # defaults to None(means all score)\n",
        ")\n",
        "\n",
        "reviewArray.extend(result2)"
      ],
      "metadata": {
        "id": "JsiFWtJnNfTX"
      },
      "execution_count": 6,
      "outputs": []
    },
    {
      "cell_type": "code",
      "source": [
        "import pandas as pd\n",
        "\n",
        "feedbackPD = pd.DataFrame(reviewArray)\n",
        "\n",
        "feedbackPD['content']"
      ],
      "metadata": {
        "colab": {
          "base_uri": "https://localhost:8080/"
        },
        "id": "51t3FxSMNxGM",
        "outputId": "78bf5a6b-3c1c-473f-dfed-0851652ef7f7"
      },
      "execution_count": 7,
      "outputs": [
        {
          "output_type": "execute_result",
          "data": {
            "text/plain": [
              "0       Sorry, including the expensive price + apk usi...\n",
              "1       Verifikasi terlalu ribet pending terus, udah n...\n",
              "2                             menginap yang nyaman sekali\n",
              "3                                     Ga bisa masuk apk ?\n",
              "4       kenapa apk boboboxx saya stuck di loading scre...\n",
              "                              ...                        \n",
              "2744                                             good job\n",
              "2745                                                   ok\n",
              "2746                                            ok banget\n",
              "2747            Sangat Memuaskan... Balek kampung ahhh...\n",
              "2748    setelah update kok malah susah, bahkan utk men...\n",
              "Name: content, Length: 2749, dtype: object"
            ]
          },
          "metadata": {},
          "execution_count": 7
        }
      ]
    },
    {
      "cell_type": "code",
      "source": [
        "\n",
        "import openpyxl\n",
        "from google.colab import drive\n",
        "drive.mount('/content/gdrive')\n",
        "\n",
        "# Create a path to the Excel file you want to export the DataFrame to.\n",
        "excel_file_path = \"/content/gdrive/My Drive/Tesis/EmbeddingDataset.xlsx\"\n",
        "\n",
        "# Use the `to_excel()` method to export the DataFrame to the Excel file.\n",
        "feedbackPD['content'].to_excel(excel_file_path, sheet_name=\"Sheet1\")"
      ],
      "metadata": {
        "colab": {
          "base_uri": "https://localhost:8080/"
        },
        "id": "iiM_Di_3OMc6",
        "outputId": "d679fe61-d1f6-465d-84dc-73c9e9157b5f"
      },
      "execution_count": 8,
      "outputs": [
        {
          "output_type": "stream",
          "name": "stdout",
          "text": [
            "Drive already mounted at /content/gdrive; to attempt to forcibly remount, call drive.mount(\"/content/gdrive\", force_remount=True).\n"
          ]
        }
      ]
    }
  ]
}